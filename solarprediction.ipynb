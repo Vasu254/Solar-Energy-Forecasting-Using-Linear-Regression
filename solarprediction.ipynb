{
 "cells": [
  {
   "cell_type": "markdown",
   "metadata": {},
   "source": [
    "## Solar Prediction Power Output Using LInear Regression"
   ]
  },
  {
   "cell_type": "code",
   "execution_count": 1,
   "metadata": {},
   "outputs": [],
   "source": [
    "import pandas as pd\n",
    "import numpy as np\n",
    "import seaborn as sns"
   ]
  },
  {
   "cell_type": "code",
   "execution_count": 5,
   "metadata": {},
   "outputs": [
    {
     "data": {
      "text/html": [
       "<div>\n",
       "<style scoped>\n",
       "    .dataframe tbody tr th:only-of-type {\n",
       "        vertical-align: middle;\n",
       "    }\n",
       "\n",
       "    .dataframe tbody tr th {\n",
       "        vertical-align: top;\n",
       "    }\n",
       "\n",
       "    .dataframe thead th {\n",
       "        text-align: right;\n",
       "    }\n",
       "</style>\n",
       "<table border=\"1\" class=\"dataframe\">\n",
       "  <thead>\n",
       "    <tr style=\"text-align: right;\">\n",
       "      <th></th>\n",
       "      <th>temperature_2_m_above_gnd</th>\n",
       "      <th>relative_humidity_2_m_above_gnd</th>\n",
       "      <th>mean_sea_level_pressure_MSL</th>\n",
       "      <th>total_precipitation_sfc</th>\n",
       "      <th>snowfall_amount_sfc</th>\n",
       "      <th>total_cloud_cover_sfc</th>\n",
       "      <th>high_cloud_cover_high_cld_lay</th>\n",
       "      <th>medium_cloud_cover_mid_cld_lay</th>\n",
       "      <th>low_cloud_cover_low_cld_lay</th>\n",
       "      <th>shortwave_radiation_backwards_sfc</th>\n",
       "      <th>...</th>\n",
       "      <th>wind_direction_10_m_above_gnd</th>\n",
       "      <th>wind_speed_80_m_above_gnd</th>\n",
       "      <th>wind_direction_80_m_above_gnd</th>\n",
       "      <th>wind_speed_900_mb</th>\n",
       "      <th>wind_direction_900_mb</th>\n",
       "      <th>wind_gust_10_m_above_gnd</th>\n",
       "      <th>angle_of_incidence</th>\n",
       "      <th>zenith</th>\n",
       "      <th>azimuth</th>\n",
       "      <th>generated_power_kw</th>\n",
       "    </tr>\n",
       "  </thead>\n",
       "  <tbody>\n",
       "    <tr>\n",
       "      <th>0</th>\n",
       "      <td>2.17</td>\n",
       "      <td>31</td>\n",
       "      <td>1035.0</td>\n",
       "      <td>0.0</td>\n",
       "      <td>0.0</td>\n",
       "      <td>0.0</td>\n",
       "      <td>0</td>\n",
       "      <td>0</td>\n",
       "      <td>0</td>\n",
       "      <td>0.00</td>\n",
       "      <td>...</td>\n",
       "      <td>312.71</td>\n",
       "      <td>9.36</td>\n",
       "      <td>22.62</td>\n",
       "      <td>6.62</td>\n",
       "      <td>337.62</td>\n",
       "      <td>24.48</td>\n",
       "      <td>58.753108</td>\n",
       "      <td>83.237322</td>\n",
       "      <td>128.33543</td>\n",
       "      <td>454.10095</td>\n",
       "    </tr>\n",
       "    <tr>\n",
       "      <th>1</th>\n",
       "      <td>2.31</td>\n",
       "      <td>27</td>\n",
       "      <td>1035.1</td>\n",
       "      <td>0.0</td>\n",
       "      <td>0.0</td>\n",
       "      <td>0.0</td>\n",
       "      <td>0</td>\n",
       "      <td>0</td>\n",
       "      <td>0</td>\n",
       "      <td>1.78</td>\n",
       "      <td>...</td>\n",
       "      <td>294.78</td>\n",
       "      <td>5.99</td>\n",
       "      <td>32.74</td>\n",
       "      <td>4.61</td>\n",
       "      <td>321.34</td>\n",
       "      <td>21.96</td>\n",
       "      <td>45.408585</td>\n",
       "      <td>75.143041</td>\n",
       "      <td>139.65530</td>\n",
       "      <td>1411.99940</td>\n",
       "    </tr>\n",
       "    <tr>\n",
       "      <th>2</th>\n",
       "      <td>3.65</td>\n",
       "      <td>33</td>\n",
       "      <td>1035.4</td>\n",
       "      <td>0.0</td>\n",
       "      <td>0.0</td>\n",
       "      <td>0.0</td>\n",
       "      <td>0</td>\n",
       "      <td>0</td>\n",
       "      <td>0</td>\n",
       "      <td>108.58</td>\n",
       "      <td>...</td>\n",
       "      <td>270.00</td>\n",
       "      <td>3.89</td>\n",
       "      <td>56.31</td>\n",
       "      <td>3.76</td>\n",
       "      <td>286.70</td>\n",
       "      <td>14.04</td>\n",
       "      <td>32.848282</td>\n",
       "      <td>68.820648</td>\n",
       "      <td>152.53769</td>\n",
       "      <td>2214.84930</td>\n",
       "    </tr>\n",
       "    <tr>\n",
       "      <th>3</th>\n",
       "      <td>5.82</td>\n",
       "      <td>30</td>\n",
       "      <td>1035.4</td>\n",
       "      <td>0.0</td>\n",
       "      <td>0.0</td>\n",
       "      <td>0.0</td>\n",
       "      <td>0</td>\n",
       "      <td>0</td>\n",
       "      <td>0</td>\n",
       "      <td>258.10</td>\n",
       "      <td>...</td>\n",
       "      <td>323.13</td>\n",
       "      <td>3.55</td>\n",
       "      <td>23.96</td>\n",
       "      <td>3.08</td>\n",
       "      <td>339.44</td>\n",
       "      <td>19.80</td>\n",
       "      <td>22.699288</td>\n",
       "      <td>64.883536</td>\n",
       "      <td>166.90159</td>\n",
       "      <td>2527.60920</td>\n",
       "    </tr>\n",
       "    <tr>\n",
       "      <th>4</th>\n",
       "      <td>7.73</td>\n",
       "      <td>27</td>\n",
       "      <td>1034.4</td>\n",
       "      <td>0.0</td>\n",
       "      <td>0.0</td>\n",
       "      <td>0.0</td>\n",
       "      <td>0</td>\n",
       "      <td>0</td>\n",
       "      <td>0</td>\n",
       "      <td>375.58</td>\n",
       "      <td>...</td>\n",
       "      <td>10.01</td>\n",
       "      <td>6.76</td>\n",
       "      <td>25.20</td>\n",
       "      <td>6.62</td>\n",
       "      <td>22.38</td>\n",
       "      <td>16.56</td>\n",
       "      <td>19.199908</td>\n",
       "      <td>63.795208</td>\n",
       "      <td>182.13526</td>\n",
       "      <td>2640.20340</td>\n",
       "    </tr>\n",
       "  </tbody>\n",
       "</table>\n",
       "<p>5 rows × 21 columns</p>\n",
       "</div>"
      ],
      "text/plain": [
       "   temperature_2_m_above_gnd  relative_humidity_2_m_above_gnd  \\\n",
       "0                       2.17                               31   \n",
       "1                       2.31                               27   \n",
       "2                       3.65                               33   \n",
       "3                       5.82                               30   \n",
       "4                       7.73                               27   \n",
       "\n",
       "   mean_sea_level_pressure_MSL  total_precipitation_sfc  snowfall_amount_sfc  \\\n",
       "0                       1035.0                      0.0                  0.0   \n",
       "1                       1035.1                      0.0                  0.0   \n",
       "2                       1035.4                      0.0                  0.0   \n",
       "3                       1035.4                      0.0                  0.0   \n",
       "4                       1034.4                      0.0                  0.0   \n",
       "\n",
       "   total_cloud_cover_sfc  high_cloud_cover_high_cld_lay  \\\n",
       "0                    0.0                              0   \n",
       "1                    0.0                              0   \n",
       "2                    0.0                              0   \n",
       "3                    0.0                              0   \n",
       "4                    0.0                              0   \n",
       "\n",
       "   medium_cloud_cover_mid_cld_lay  low_cloud_cover_low_cld_lay  \\\n",
       "0                               0                            0   \n",
       "1                               0                            0   \n",
       "2                               0                            0   \n",
       "3                               0                            0   \n",
       "4                               0                            0   \n",
       "\n",
       "   shortwave_radiation_backwards_sfc  ...  wind_direction_10_m_above_gnd  \\\n",
       "0                               0.00  ...                         312.71   \n",
       "1                               1.78  ...                         294.78   \n",
       "2                             108.58  ...                         270.00   \n",
       "3                             258.10  ...                         323.13   \n",
       "4                             375.58  ...                          10.01   \n",
       "\n",
       "   wind_speed_80_m_above_gnd  wind_direction_80_m_above_gnd  \\\n",
       "0                       9.36                          22.62   \n",
       "1                       5.99                          32.74   \n",
       "2                       3.89                          56.31   \n",
       "3                       3.55                          23.96   \n",
       "4                       6.76                          25.20   \n",
       "\n",
       "   wind_speed_900_mb  wind_direction_900_mb  wind_gust_10_m_above_gnd  \\\n",
       "0               6.62                 337.62                     24.48   \n",
       "1               4.61                 321.34                     21.96   \n",
       "2               3.76                 286.70                     14.04   \n",
       "3               3.08                 339.44                     19.80   \n",
       "4               6.62                  22.38                     16.56   \n",
       "\n",
       "   angle_of_incidence     zenith    azimuth  generated_power_kw  \n",
       "0           58.753108  83.237322  128.33543           454.10095  \n",
       "1           45.408585  75.143041  139.65530          1411.99940  \n",
       "2           32.848282  68.820648  152.53769          2214.84930  \n",
       "3           22.699288  64.883536  166.90159          2527.60920  \n",
       "4           19.199908  63.795208  182.13526          2640.20340  \n",
       "\n",
       "[5 rows x 21 columns]"
      ]
     },
     "execution_count": 5,
     "metadata": {},
     "output_type": "execute_result"
    }
   ],
   "source": [
    "# load the dataset\n",
    "df=pd.read_csv('data set/solarpowerprediction.csv')\n",
    "df.head()"
   ]
  },
  {
   "cell_type": "code",
   "execution_count": 6,
   "metadata": {},
   "outputs": [
    {
     "data": {
      "text/plain": [
       "(4213, 21)"
      ]
     },
     "execution_count": 6,
     "metadata": {},
     "output_type": "execute_result"
    }
   ],
   "source": [
    "# Total number of rows and columns\n",
    "df.shape"
   ]
  },
  {
   "cell_type": "code",
   "execution_count": 7,
   "metadata": {},
   "outputs": [
    {
     "name": "stdout",
     "output_type": "stream",
     "text": [
      "<class 'pandas.core.frame.DataFrame'>\n",
      "RangeIndex: 4213 entries, 0 to 4212\n",
      "Data columns (total 21 columns):\n",
      " #   Column                             Non-Null Count  Dtype  \n",
      "---  ------                             --------------  -----  \n",
      " 0   temperature_2_m_above_gnd          4213 non-null   float64\n",
      " 1   relative_humidity_2_m_above_gnd    4213 non-null   int64  \n",
      " 2   mean_sea_level_pressure_MSL        4213 non-null   float64\n",
      " 3   total_precipitation_sfc            4213 non-null   float64\n",
      " 4   snowfall_amount_sfc                4213 non-null   float64\n",
      " 5   total_cloud_cover_sfc              4213 non-null   float64\n",
      " 6   high_cloud_cover_high_cld_lay      4213 non-null   int64  \n",
      " 7   medium_cloud_cover_mid_cld_lay     4213 non-null   int64  \n",
      " 8   low_cloud_cover_low_cld_lay        4213 non-null   int64  \n",
      " 9   shortwave_radiation_backwards_sfc  4213 non-null   float64\n",
      " 10  wind_speed_10_m_above_gnd          4213 non-null   float64\n",
      " 11  wind_direction_10_m_above_gnd      4213 non-null   float64\n",
      " 12  wind_speed_80_m_above_gnd          4213 non-null   float64\n",
      " 13  wind_direction_80_m_above_gnd      4213 non-null   float64\n",
      " 14  wind_speed_900_mb                  4213 non-null   float64\n",
      " 15  wind_direction_900_mb              4213 non-null   float64\n",
      " 16  wind_gust_10_m_above_gnd           4213 non-null   float64\n",
      " 17  angle_of_incidence                 4213 non-null   float64\n",
      " 18  zenith                             4213 non-null   float64\n",
      " 19  azimuth                            4213 non-null   float64\n",
      " 20  generated_power_kw                 4213 non-null   float64\n",
      "dtypes: float64(17), int64(4)\n",
      "memory usage: 691.3 KB\n"
     ]
    }
   ],
   "source": [
    "#check information of the dataset\n",
    "df.info()"
   ]
  },
  {
   "cell_type": "code",
   "execution_count": 11,
   "metadata": {},
   "outputs": [
    {
     "data": {
      "text/plain": [
       "temperature_2_m_above_gnd            0\n",
       "relative_humidity_2_m_above_gnd      0\n",
       "mean_sea_level_pressure_MSL          0\n",
       "total_precipitation_sfc              0\n",
       "snowfall_amount_sfc                  0\n",
       "total_cloud_cover_sfc                0\n",
       "high_cloud_cover_high_cld_lay        0\n",
       "medium_cloud_cover_mid_cld_lay       0\n",
       "low_cloud_cover_low_cld_lay          0\n",
       "shortwave_radiation_backwards_sfc    0\n",
       "wind_speed_10_m_above_gnd            0\n",
       "wind_direction_10_m_above_gnd        0\n",
       "wind_speed_80_m_above_gnd            0\n",
       "wind_direction_80_m_above_gnd        0\n",
       "wind_speed_900_mb                    0\n",
       "wind_direction_900_mb                0\n",
       "wind_gust_10_m_above_gnd             0\n",
       "angle_of_incidence                   0\n",
       "zenith                               0\n",
       "azimuth                              0\n",
       "generated_power_kw                   0\n",
       "dtype: int64"
      ]
     },
     "execution_count": 11,
     "metadata": {},
     "output_type": "execute_result"
    }
   ],
   "source": [
    "#check the messing values\n",
    "df.isnull().sum()"
   ]
  },
  {
   "cell_type": "code",
   "execution_count": null,
   "metadata": {},
   "outputs": [
    {
     "data": {
      "text/plain": [
       "0"
      ]
     },
     "execution_count": 13,
     "metadata": {},
     "output_type": "execute_result"
    }
   ],
   "source": [
    "#check the duplecated values\n",
    "df.duplicated().sum()"
   ]
  },
  {
   "cell_type": "code",
   "execution_count": 15,
   "metadata": {},
   "outputs": [
    {
     "data": {
      "text/plain": [
       "Index(['temperature_2_m_above_gnd', 'relative_humidity_2_m_above_gnd',\n",
       "       'mean_sea_level_pressure_MSL', 'total_precipitation_sfc',\n",
       "       'snowfall_amount_sfc', 'total_cloud_cover_sfc',\n",
       "       'high_cloud_cover_high_cld_lay', 'medium_cloud_cover_mid_cld_lay',\n",
       "       'low_cloud_cover_low_cld_lay', 'shortwave_radiation_backwards_sfc',\n",
       "       'wind_speed_10_m_above_gnd', 'wind_direction_10_m_above_gnd',\n",
       "       'wind_speed_80_m_above_gnd', 'wind_direction_80_m_above_gnd',\n",
       "       'wind_speed_900_mb', 'wind_direction_900_mb',\n",
       "       'wind_gust_10_m_above_gnd', 'angle_of_incidence', 'zenith', 'azimuth',\n",
       "       'generated_power_kw'],\n",
       "      dtype='object')"
      ]
     },
     "execution_count": 15,
     "metadata": {},
     "output_type": "execute_result"
    }
   ],
   "source": [
    "df.columns"
   ]
  },
  {
   "cell_type": "code",
   "execution_count": 18,
   "metadata": {},
   "outputs": [],
   "source": [
    "import matplotlib.pyplot as plt"
   ]
  },
  {
   "cell_type": "code",
   "execution_count": 4,
   "metadata": {},
   "outputs": [
    {
     "ename": "NameError",
     "evalue": "name 'plt' is not defined",
     "output_type": "error",
     "traceback": [
      "\u001b[1;31m---------------------------------------------------------------------------\u001b[0m",
      "\u001b[1;31mNameError\u001b[0m                                 Traceback (most recent call last)",
      "Cell \u001b[1;32mIn[4], line 2\u001b[0m\n\u001b[0;32m      1\u001b[0m \u001b[38;5;66;03m#plot distribution of power\u001b[39;00m\n\u001b[1;32m----> 2\u001b[0m plt\u001b[38;5;241m.\u001b[39mfigure(figsize\u001b[38;5;241m=\u001b[39m(\u001b[38;5;241m10\u001b[39m,\u001b[38;5;241m6\u001b[39m))\n\u001b[0;32m      3\u001b[0m sns\u001b[38;5;241m.\u001b[39mhistplot(df[\u001b[38;5;124m'\u001b[39m\u001b[38;5;124mgenerated_power_kw\u001b[39m\u001b[38;5;124m'\u001b[39m], bins\u001b[38;5;241m=\u001b[39m\u001b[38;5;241m30\u001b[39m,kde\u001b[38;5;241m=\u001b[39m\u001b[38;5;28;01mTrue\u001b[39;00m)\n\u001b[0;32m      4\u001b[0m plt\u001b[38;5;241m.\u001b[39mtitle(\u001b[38;5;124m'\u001b[39m\u001b[38;5;124mDistribution of Generated Power (kw)\u001b[39m\u001b[38;5;124m'\u001b[39m)\n",
      "\u001b[1;31mNameError\u001b[0m: name 'plt' is not defined"
     ]
    }
   ],
   "source": [
    "#plot distribution of power\n",
    "plt.figure(figsize=(10,6))\n",
    "sns.histplot(df['generated_power_kw'], bins=30,kde=True)\n",
    "plt.title('Distribution of Generated Power (kw)')\n",
    "plt.ylabel('frequency')\n",
    "plt.show()"
   ]
  },
  {
   "cell_type": "markdown",
   "metadata": {},
   "source": []
  },
  {
   "cell_type": "code",
   "execution_count": null,
   "metadata": {},
   "outputs": [],
   "source": []
  }
 ],
 "metadata": {
  "kernelspec": {
   "display_name": "base",
   "language": "python",
   "name": "python3"
  },
  "language_info": {
   "codemirror_mode": {
    "name": "ipython",
    "version": 3
   },
   "file_extension": ".py",
   "mimetype": "text/x-python",
   "name": "python",
   "nbconvert_exporter": "python",
   "pygments_lexer": "ipython3",
   "version": "3.11.3"
  }
 },
 "nbformat": 4,
 "nbformat_minor": 2
}
